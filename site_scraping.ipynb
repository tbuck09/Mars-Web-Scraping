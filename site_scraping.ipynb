{
 "cells": [
  {
   "cell_type": "markdown",
   "metadata": {},
   "source": [
    "# Import Dependencies"
   ]
  },
  {
   "cell_type": "code",
   "execution_count": 58,
   "metadata": {},
   "outputs": [],
   "source": [
    "from time import sleep\n",
    "\n",
    "import numpy as np\n",
    "import pandas as pd\n",
    "\n",
    "import requests\n",
    "from bs4 import BeautifulSoup\n",
    "\n",
    "from splinter import Browser\n",
    "from selenium import webdriver\n",
    "from selenium.webdriver.common.keys import Keys"
   ]
  },
  {
   "cell_type": "markdown",
   "metadata": {},
   "source": [
    "# Scraping Websites for up-to-date data"
   ]
  },
  {
   "cell_type": "markdown",
   "metadata": {},
   "source": [
    "### NASA Mars News"
   ]
  },
  {
   "cell_type": "code",
   "execution_count": 59,
   "metadata": {},
   "outputs": [],
   "source": [
    "news_url= \"https://mars.nasa.gov/news/?page=0&per_page=40&order=publish_date+desc%2Ccreated_at+desc&search=&category=19%2C165%2C184%2C204&blank_scope=Latest\"\n",
    "\n",
    "executable_path= {'executable_path':'.\\chromedriver.exe'}\n",
    "browser= Browser('chrome',**executable_path, headless=False)\n",
    "browser.visit(news_url)\n",
    "sleep(2)"
   ]
  },
  {
   "cell_type": "code",
   "execution_count": 60,
   "metadata": {},
   "outputs": [],
   "source": [
    "response= browser.html\n",
    "soup= BeautifulSoup(response, \"html.parser\")"
   ]
  },
  {
   "cell_type": "code",
   "execution_count": 61,
   "metadata": {},
   "outputs": [],
   "source": [
    "news= soup.find_all(\"li\",class_=\"slide\")"
   ]
  },
  {
   "cell_type": "code",
   "execution_count": 62,
   "metadata": {},
   "outputs": [
    {
     "data": {
      "text/plain": [
       "40"
      ]
     },
     "execution_count": 62,
     "metadata": {},
     "output_type": "execute_result"
    }
   ],
   "source": [
    "len(news)"
   ]
  },
  {
   "cell_type": "code",
   "execution_count": 63,
   "metadata": {},
   "outputs": [
    {
     "name": "stdout",
     "output_type": "stream",
     "text": [
      "NASA's MRO Completes 60,000 Trips Around Mars\n",
      "The orbiting spacecraft is also about to set a record for data relayed from the Martian surface.\n"
     ]
    }
   ],
   "source": [
    "news_title= news[0].select(\"div.content_title\")[0].text.strip()\n",
    "news_teaser= news[0].select(\"div.article_teaser_body\")[0].text.strip()\n",
    "\n",
    "print(news_title)\n",
    "print(news_teaser)"
   ]
  },
  {
   "cell_type": "markdown",
   "metadata": {},
   "source": [
    "### JPL Mars Space Images - Featured Image"
   ]
  },
  {
   "cell_type": "code",
   "execution_count": 27,
   "metadata": {},
   "outputs": [],
   "source": [
    "pic_url= \"https://www.jpl.nasa.gov\"\n",
    "pic_url_query= \"/spaceimages/?search=&category=Mars\""
   ]
  },
  {
   "cell_type": "code",
   "execution_count": 7,
   "metadata": {},
   "outputs": [],
   "source": [
    "executable_path= {'executable_path':'.\\chromedriver.exe'}\n",
    "browser= Browser('chrome',**executable_path, headless=False)"
   ]
  },
  {
   "cell_type": "code",
   "execution_count": 28,
   "metadata": {},
   "outputs": [],
   "source": [
    "browser.visit(pic_url+pic_url_query)\n",
    "browser.click_link_by_partial_text(\"FULL IMAGE\")\n",
    "html= browser.html\n",
    "\n",
    "soup= BeautifulSoup(html,\"html.parser\")"
   ]
  },
  {
   "cell_type": "code",
   "execution_count": 9,
   "metadata": {},
   "outputs": [],
   "source": [
    "img= soup.find_all(\"img\")\n",
    "feat_pic= soup.find(\"article\",class_=\"carousel_item\")"
   ]
  },
  {
   "cell_type": "code",
   "execution_count": 10,
   "metadata": {},
   "outputs": [],
   "source": [
    "feat_pic_url= feat_pic.a['data-fancybox-href']"
   ]
  },
  {
   "cell_type": "code",
   "execution_count": 11,
   "metadata": {},
   "outputs": [
    {
     "name": "stdout",
     "output_type": "stream",
     "text": [
      "https://www.jpl.nasa.gov/spaceimages/images/mediumsize/PIA17563_ip.jpg\n"
     ]
    }
   ],
   "source": [
    "img_src_url= pic_url+feat_pic_url\n",
    "print(img_src_url)"
   ]
  },
  {
   "cell_type": "code",
   "execution_count": 12,
   "metadata": {},
   "outputs": [],
   "source": [
    "browser.quit()"
   ]
  },
  {
   "cell_type": "markdown",
   "metadata": {},
   "source": [
    "### Mars Weather"
   ]
  },
  {
   "cell_type": "code",
   "execution_count": 9,
   "metadata": {},
   "outputs": [],
   "source": [
    "tweet_url= \"https://twitter.com/marswxreport?lang=en\"\n",
    "\n",
    "response= requests.get(tweet_url)\n",
    "soup= BeautifulSoup(response.text, \"html.parser\")"
   ]
  },
  {
   "cell_type": "code",
   "execution_count": 10,
   "metadata": {},
   "outputs": [
    {
     "name": "stdout",
     "output_type": "stream",
     "text": [
      "***************\n",
      "<p class=\"TweetTextSize TweetTextSize--normal js-tweet-text tweet-text\" data-aria-label-part=\"0\" lang=\"en\">InSight sol 167 (2019-05-17) low -100.5ºC (-148.9ºF) high -20.4ºC (-4.6ºF)\n",
      "winds from the SW at 4.7 m/s (10.6 mph) gusting to 13.5 m/s (30.3 mph)\n",
      "pressure at 7.50 hPa<a class=\"twitter-timeline-link u-hidden\" data-pre-embedded=\"true\" dir=\"ltr\" href=\"https://t.co/0Eqt9nN21o\">pic.twitter.com/0Eqt9nN21o</a></p>\n",
      "***************\n",
      "***************\n",
      "InSight sol 167 (2019-05-17) low -100.5ºC (-148.9ºF) high -20.4ºC (-4.6ºF)\n",
      "winds from the SW at 4.7 m/s (10.6 mph) gusting to 13.5 m/s (30.3 mph)\n",
      "pressure at 7.50 hPa\n",
      "***************\n",
      "***************\n",
      "[<a class=\"twitter-timeline-link u-hidden\" data-pre-embedded=\"true\" dir=\"ltr\" href=\"https://t.co/0Eqt9nN21o\">pic.twitter.com/0Eqt9nN21o</a>]\n",
      "***************\n"
     ]
    }
   ],
   "source": [
    "tweet_text_full= soup.find(\"p\",class_=\"tweet-text\")\n",
    "print(\"*\"*15)\n",
    "print(tweet_text_full)\n",
    "print(\"*\"*15)\n",
    "\n",
    "tweet_text_extract= tweet_text_full.find_all('a')\n",
    "for i in tweet_text_extract:\n",
    "    i.extract()\n",
    "\n",
    "print(\"*\"*15)\n",
    "print(tweet_text_full.text)\n",
    "print(\"*\"*15)\n",
    "\n",
    "print(\"*\"*15)\n",
    "print(tweet_text_extract)\n",
    "print(\"*\"*15)"
   ]
  },
  {
   "cell_type": "markdown",
   "metadata": {},
   "source": [
    "### Mars Facts"
   ]
  },
  {
   "cell_type": "code",
   "execution_count": 29,
   "metadata": {},
   "outputs": [],
   "source": [
    "facts_url= \"https://space-facts.com/mars/\"\n",
    "\n",
    "fact_table= pd.read_html(facts_url)[0]\n",
    "\n",
    "fact_table.columns= [\"description\",\"value\"]\n",
    "\n",
    "fact_dict= fact_table.to_dict(orient='records')"
   ]
  },
  {
   "cell_type": "code",
   "execution_count": 38,
   "metadata": {},
   "outputs": [],
   "source": [
    "fact_list= [[i['description'][:-1],i['value']] for i in fact_dict]"
   ]
  },
  {
   "cell_type": "markdown",
   "metadata": {},
   "source": [
    "### Mars Hemispheres"
   ]
  },
  {
   "cell_type": "code",
   "execution_count": 34,
   "metadata": {},
   "outputs": [],
   "source": [
    "hemisphere_url= \"https://astrogeology.usgs.gov/search/results?q=hemisphere+enhanced&k1=target&v1=Mars\"\n",
    "\n",
    "response= requests.get(hemisphere_url)\n",
    "soup= BeautifulSoup(response.text, \"html.parser\")"
   ]
  },
  {
   "cell_type": "code",
   "execution_count": 35,
   "metadata": {},
   "outputs": [],
   "source": [
    "thumb_list= [i.text for i in soup.select(\"h3\")]"
   ]
  },
  {
   "cell_type": "code",
   "execution_count": 36,
   "metadata": {},
   "outputs": [],
   "source": [
    "executable_path= {'executable_path':'.\\chromedriver.exe'}\n",
    "browser= Browser('chrome',**executable_path, headless=True)\n",
    "\n",
    "url_list= []\n",
    "\n",
    "for thumb in thumb_list:\n",
    "    browser.visit(hemisphere_url)\n",
    "    browser.find_by_text(thumb).click()\n",
    "    browser.find_by_text(\"Sample\").click()\n",
    "    url_list.append(browser.url)"
   ]
  },
  {
   "cell_type": "code",
   "execution_count": 20,
   "metadata": {},
   "outputs": [],
   "source": [
    "browser.quit()"
   ]
  },
  {
   "cell_type": "code",
   "execution_count": 55,
   "metadata": {},
   "outputs": [
    {
     "data": {
      "text/plain": [
       "'https://astropedia.astrogeology.usgs.gov/download/Mars/Viking/cerberus_enhanced.tif/full.jpg'"
      ]
     },
     "execution_count": 55,
     "metadata": {},
     "output_type": "execute_result"
    }
   ],
   "source": [
    "executable_path= {'executable_path':'.\\chromedriver.exe'}\n",
    "browser= Browser('chrome',**executable_path, headless=False)\n",
    "\n",
    "browser.visit(hemisphere_url)\n",
    "browser.find_by_text(thumb_list[0]).click()\n",
    "browser.find_by_text(\"Sample\").click()\n",
    "# time.sleep(2)\n",
    "browser.windows[1].url"
   ]
  }
 ],
 "metadata": {
  "kernelspec": {
   "display_name": "Python 3",
   "language": "python",
   "name": "python3"
  },
  "language_info": {
   "codemirror_mode": {
    "name": "ipython",
    "version": 3
   },
   "file_extension": ".py",
   "mimetype": "text/x-python",
   "name": "python",
   "nbconvert_exporter": "python",
   "pygments_lexer": "ipython3",
   "version": "3.6.7"
  }
 },
 "nbformat": 4,
 "nbformat_minor": 2
}
